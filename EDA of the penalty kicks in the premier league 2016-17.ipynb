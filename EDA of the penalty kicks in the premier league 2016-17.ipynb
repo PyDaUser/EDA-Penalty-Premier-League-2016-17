{
 "cells": [
  {
   "cell_type": "markdown",
   "metadata": {},
   "source": [
    "## In this notebook, we will try to a simple question:\n",
    "* In general, what is the most likely direction of the penatly for right and left footed players?"
   ]
  },
  {
   "cell_type": "code",
   "execution_count": 256,
   "metadata": {},
   "outputs": [],
   "source": [
    "#import libraries\n",
    "import pandas as pd\n",
    "import numpy as np\n",
    "import matplotlib.pyplot as plt\n",
    "%matplotlib inline\n",
    "import seaborn as sns\n",
    "import plotly.offline as pyo\n",
    "import plotly.graph_objs as go\n",
    "from plotly.offline import download_plotlyjs, init_notebook_mode, plot, iplot"
   ]
  },
  {
   "cell_type": "code",
   "execution_count": 257,
   "metadata": {},
   "outputs": [],
   "source": [
    "#Read the CSV file.\n",
    "data = pd.read_csv('penalty_data.csv', encoding = \"ISO-8859-1\")"
   ]
  },
  {
   "cell_type": "code",
   "execution_count": 258,
   "metadata": {},
   "outputs": [
    {
     "name": "stdout",
     "output_type": "stream",
     "text": [
      "<class 'pandas.core.frame.DataFrame'>\n",
      "RangeIndex: 106 entries, 0 to 105\n",
      "Data columns (total 13 columns):\n",
      "No.                        106 non-null int64\n",
      "Match Week                 106 non-null int64\n",
      "Date                       106 non-null object\n",
      "Player                     106 non-null object\n",
      "Team                       106 non-null object\n",
      "Match                      106 non-null object\n",
      "Time of Penalty Awarded    106 non-null object\n",
      "Scored                     106 non-null object\n",
      "Final Results              106 non-null object\n",
      "Foot                       103 non-null object\n",
      "Kick_Direction             103 non-null object\n",
      "Keeper_Direction           103 non-null object\n",
      "Saved                      18 non-null float64\n",
      "dtypes: float64(1), int64(2), object(10)\n",
      "memory usage: 10.8+ KB\n"
     ]
    }
   ],
   "source": [
    "data.info()"
   ]
  },
  {
   "cell_type": "markdown",
   "metadata": {},
   "source": [
    "We see that we have 106 entries, and 13 columns. The columns are"
   ]
  },
  {
   "cell_type": "code",
   "execution_count": 259,
   "metadata": {},
   "outputs": [
    {
     "data": {
      "text/plain": [
       "Index(['No.', 'Match Week', 'Date', 'Player', 'Team', 'Match',\n",
       "       'Time of Penalty Awarded', 'Scored', 'Final Results', 'Foot',\n",
       "       'Kick_Direction', 'Keeper_Direction', 'Saved'],\n",
       "      dtype='object')"
      ]
     },
     "execution_count": 259,
     "metadata": {},
     "output_type": "execute_result"
    }
   ],
   "source": [
    "data.columns"
   ]
  },
  {
   "cell_type": "markdown",
   "metadata": {},
   "source": [
    "For our analysis, most of these columns are irrelevant to the questions we are trying to answer. So, we will just drop them. Note that the columns Scored and Saved are dependent. In other words, having one, we can know the other. Since the Scored column has no missing data, while the Saved column has many misssing data, we will drop the Saved column. "
   ]
  },
  {
   "cell_type": "code",
   "execution_count": 260,
   "metadata": {},
   "outputs": [],
   "source": [
    "data.drop(columns = ['No.', 'Match Week', 'Date', 'Match',\n",
    "       'Time of Penalty Awarded', 'Final Results','Saved'], axis = 1, inplace = True)"
   ]
  },
  {
   "cell_type": "code",
   "execution_count": 261,
   "metadata": {},
   "outputs": [
    {
     "data": {
      "text/html": [
       "<div>\n",
       "<style scoped>\n",
       "    .dataframe tbody tr th:only-of-type {\n",
       "        vertical-align: middle;\n",
       "    }\n",
       "\n",
       "    .dataframe tbody tr th {\n",
       "        vertical-align: top;\n",
       "    }\n",
       "\n",
       "    .dataframe thead th {\n",
       "        text-align: right;\n",
       "    }\n",
       "</style>\n",
       "<table border=\"1\" class=\"dataframe\">\n",
       "  <thead>\n",
       "    <tr style=\"text-align: right;\">\n",
       "      <th></th>\n",
       "      <th>Player</th>\n",
       "      <th>Team</th>\n",
       "      <th>Scored</th>\n",
       "      <th>Foot</th>\n",
       "      <th>Kick_Direction</th>\n",
       "      <th>Keeper_Direction</th>\n",
       "    </tr>\n",
       "  </thead>\n",
       "  <tbody>\n",
       "    <tr>\n",
       "      <th>0</th>\n",
       "      <td>Riyad Mahrez</td>\n",
       "      <td>Leicester</td>\n",
       "      <td>Scored</td>\n",
       "      <td>L</td>\n",
       "      <td>C</td>\n",
       "      <td>R</td>\n",
       "    </tr>\n",
       "    <tr>\n",
       "      <th>1</th>\n",
       "      <td>Sergio Agüero</td>\n",
       "      <td>Man City</td>\n",
       "      <td>Scored</td>\n",
       "      <td>R</td>\n",
       "      <td>L</td>\n",
       "      <td>L</td>\n",
       "    </tr>\n",
       "    <tr>\n",
       "      <th>2</th>\n",
       "      <td>Theo Walcott</td>\n",
       "      <td>Arsenal</td>\n",
       "      <td>Missed</td>\n",
       "      <td>R</td>\n",
       "      <td>L</td>\n",
       "      <td>L</td>\n",
       "    </tr>\n",
       "    <tr>\n",
       "      <th>3</th>\n",
       "      <td>Eden Hazard</td>\n",
       "      <td>Chelsea</td>\n",
       "      <td>Scored</td>\n",
       "      <td>R</td>\n",
       "      <td>C</td>\n",
       "      <td>L</td>\n",
       "    </tr>\n",
       "    <tr>\n",
       "      <th>4</th>\n",
       "      <td>Zlatan Ibrahimovic</td>\n",
       "      <td>Man United</td>\n",
       "      <td>Scored</td>\n",
       "      <td>R</td>\n",
       "      <td>L</td>\n",
       "      <td>R</td>\n",
       "    </tr>\n",
       "  </tbody>\n",
       "</table>\n",
       "</div>"
      ],
      "text/plain": [
       "               Player        Team  Scored Foot Kick_Direction Keeper_Direction\n",
       "0        Riyad Mahrez   Leicester  Scored    L              C                R\n",
       "1       Sergio Agüero    Man City  Scored    R              L                L\n",
       "2        Theo Walcott     Arsenal  Missed    R              L                L\n",
       "3         Eden Hazard     Chelsea  Scored    R              C                L\n",
       "4  Zlatan Ibrahimovic  Man United  Scored    R              L                R"
      ]
     },
     "execution_count": 261,
     "metadata": {},
     "output_type": "execute_result"
    }
   ],
   "source": [
    "data.head(5)"
   ]
  },
  {
   "cell_type": "markdown",
   "metadata": {},
   "source": [
    "The columns left are: \n",
    "* Player: The name of the player who shot the penalty.\n",
    "* Team:   The player's team.\n",
    "* Scored: If he Scored the penalty or Missed.\n",
    "* Foot:   The foot he used to shoot the penalty.\n",
    "* Kick_Direction: At which direction he shot the penlaty.\n",
    "* Keeper_Direction: At which direction the keeper went.\n",
    "\n",
    "Before processing, it is more convinienet to transform the categorical variable Scored to a numerical binary variable using the following function, and map operator. "
   ]
  },
  {
   "cell_type": "code",
   "execution_count": 262,
   "metadata": {},
   "outputs": [],
   "source": [
    "def to_binary(res):\n",
    "    '''\n",
    "    This function takes res as an argument\n",
    "    \n",
    "    Input: res takes on the values 'Scored' or 'Missed'\n",
    "    \n",
    "    Output: return 1 if res = 'Scored' or 0 otherwise.\n",
    "    '''\n",
    "    if res == 'Scored':\n",
    "        return 1\n",
    "    else:\n",
    "        return 0"
   ]
  },
  {
   "cell_type": "code",
   "execution_count": 263,
   "metadata": {},
   "outputs": [],
   "source": [
    "data['Scored_n'] = list(map(to_binary, data['Scored']))"
   ]
  },
  {
   "cell_type": "code",
   "execution_count": 264,
   "metadata": {},
   "outputs": [
    {
     "data": {
      "text/html": [
       "<div>\n",
       "<style scoped>\n",
       "    .dataframe tbody tr th:only-of-type {\n",
       "        vertical-align: middle;\n",
       "    }\n",
       "\n",
       "    .dataframe tbody tr th {\n",
       "        vertical-align: top;\n",
       "    }\n",
       "\n",
       "    .dataframe thead th {\n",
       "        text-align: right;\n",
       "    }\n",
       "</style>\n",
       "<table border=\"1\" class=\"dataframe\">\n",
       "  <thead>\n",
       "    <tr style=\"text-align: right;\">\n",
       "      <th></th>\n",
       "      <th>Player</th>\n",
       "      <th>Team</th>\n",
       "      <th>Scored</th>\n",
       "      <th>Foot</th>\n",
       "      <th>Kick_Direction</th>\n",
       "      <th>Keeper_Direction</th>\n",
       "      <th>Scored_n</th>\n",
       "    </tr>\n",
       "  </thead>\n",
       "  <tbody>\n",
       "    <tr>\n",
       "      <th>0</th>\n",
       "      <td>Riyad Mahrez</td>\n",
       "      <td>Leicester</td>\n",
       "      <td>Scored</td>\n",
       "      <td>L</td>\n",
       "      <td>C</td>\n",
       "      <td>R</td>\n",
       "      <td>1</td>\n",
       "    </tr>\n",
       "    <tr>\n",
       "      <th>1</th>\n",
       "      <td>Sergio Agüero</td>\n",
       "      <td>Man City</td>\n",
       "      <td>Scored</td>\n",
       "      <td>R</td>\n",
       "      <td>L</td>\n",
       "      <td>L</td>\n",
       "      <td>1</td>\n",
       "    </tr>\n",
       "    <tr>\n",
       "      <th>2</th>\n",
       "      <td>Theo Walcott</td>\n",
       "      <td>Arsenal</td>\n",
       "      <td>Missed</td>\n",
       "      <td>R</td>\n",
       "      <td>L</td>\n",
       "      <td>L</td>\n",
       "      <td>0</td>\n",
       "    </tr>\n",
       "    <tr>\n",
       "      <th>3</th>\n",
       "      <td>Eden Hazard</td>\n",
       "      <td>Chelsea</td>\n",
       "      <td>Scored</td>\n",
       "      <td>R</td>\n",
       "      <td>C</td>\n",
       "      <td>L</td>\n",
       "      <td>1</td>\n",
       "    </tr>\n",
       "    <tr>\n",
       "      <th>4</th>\n",
       "      <td>Zlatan Ibrahimovic</td>\n",
       "      <td>Man United</td>\n",
       "      <td>Scored</td>\n",
       "      <td>R</td>\n",
       "      <td>L</td>\n",
       "      <td>R</td>\n",
       "      <td>1</td>\n",
       "    </tr>\n",
       "  </tbody>\n",
       "</table>\n",
       "</div>"
      ],
      "text/plain": [
       "               Player        Team  Scored Foot Kick_Direction  \\\n",
       "0        Riyad Mahrez   Leicester  Scored    L              C   \n",
       "1       Sergio Agüero    Man City  Scored    R              L   \n",
       "2        Theo Walcott     Arsenal  Missed    R              L   \n",
       "3         Eden Hazard     Chelsea  Scored    R              C   \n",
       "4  Zlatan Ibrahimovic  Man United  Scored    R              L   \n",
       "\n",
       "  Keeper_Direction  Scored_n  \n",
       "0                R         1  \n",
       "1                L         1  \n",
       "2                L         0  \n",
       "3                L         1  \n",
       "4                R         1  "
      ]
     },
     "execution_count": 264,
     "metadata": {},
     "output_type": "execute_result"
    }
   ],
   "source": [
    "data.head()"
   ]
  },
  {
   "cell_type": "markdown",
   "metadata": {},
   "source": [
    "One final step before start the analysis, is to arrange the columns such that Scored is the last column."
   ]
  },
  {
   "cell_type": "code",
   "execution_count": 265,
   "metadata": {},
   "outputs": [],
   "source": [
    "cols = ['Player', 'Team', 'Foot', 'Kick_Direction', 'Keeper_Direction', 'Scored', 'Scored_n']\n",
    "data = data[cols]"
   ]
  },
  {
   "cell_type": "code",
   "execution_count": 266,
   "metadata": {},
   "outputs": [
    {
     "data": {
      "text/html": [
       "<div>\n",
       "<style scoped>\n",
       "    .dataframe tbody tr th:only-of-type {\n",
       "        vertical-align: middle;\n",
       "    }\n",
       "\n",
       "    .dataframe tbody tr th {\n",
       "        vertical-align: top;\n",
       "    }\n",
       "\n",
       "    .dataframe thead th {\n",
       "        text-align: right;\n",
       "    }\n",
       "</style>\n",
       "<table border=\"1\" class=\"dataframe\">\n",
       "  <thead>\n",
       "    <tr style=\"text-align: right;\">\n",
       "      <th></th>\n",
       "      <th>Player</th>\n",
       "      <th>Team</th>\n",
       "      <th>Foot</th>\n",
       "      <th>Kick_Direction</th>\n",
       "      <th>Keeper_Direction</th>\n",
       "      <th>Scored</th>\n",
       "      <th>Scored_n</th>\n",
       "    </tr>\n",
       "  </thead>\n",
       "  <tbody>\n",
       "    <tr>\n",
       "      <th>0</th>\n",
       "      <td>Riyad Mahrez</td>\n",
       "      <td>Leicester</td>\n",
       "      <td>L</td>\n",
       "      <td>C</td>\n",
       "      <td>R</td>\n",
       "      <td>Scored</td>\n",
       "      <td>1</td>\n",
       "    </tr>\n",
       "    <tr>\n",
       "      <th>1</th>\n",
       "      <td>Sergio Agüero</td>\n",
       "      <td>Man City</td>\n",
       "      <td>R</td>\n",
       "      <td>L</td>\n",
       "      <td>L</td>\n",
       "      <td>Scored</td>\n",
       "      <td>1</td>\n",
       "    </tr>\n",
       "    <tr>\n",
       "      <th>2</th>\n",
       "      <td>Theo Walcott</td>\n",
       "      <td>Arsenal</td>\n",
       "      <td>R</td>\n",
       "      <td>L</td>\n",
       "      <td>L</td>\n",
       "      <td>Missed</td>\n",
       "      <td>0</td>\n",
       "    </tr>\n",
       "    <tr>\n",
       "      <th>3</th>\n",
       "      <td>Eden Hazard</td>\n",
       "      <td>Chelsea</td>\n",
       "      <td>R</td>\n",
       "      <td>C</td>\n",
       "      <td>L</td>\n",
       "      <td>Scored</td>\n",
       "      <td>1</td>\n",
       "    </tr>\n",
       "    <tr>\n",
       "      <th>4</th>\n",
       "      <td>Zlatan Ibrahimovic</td>\n",
       "      <td>Man United</td>\n",
       "      <td>R</td>\n",
       "      <td>L</td>\n",
       "      <td>R</td>\n",
       "      <td>Scored</td>\n",
       "      <td>1</td>\n",
       "    </tr>\n",
       "  </tbody>\n",
       "</table>\n",
       "</div>"
      ],
      "text/plain": [
       "               Player        Team Foot Kick_Direction Keeper_Direction  \\\n",
       "0        Riyad Mahrez   Leicester    L              C                R   \n",
       "1       Sergio Agüero    Man City    R              L                L   \n",
       "2        Theo Walcott     Arsenal    R              L                L   \n",
       "3         Eden Hazard     Chelsea    R              C                L   \n",
       "4  Zlatan Ibrahimovic  Man United    R              L                R   \n",
       "\n",
       "   Scored  Scored_n  \n",
       "0  Scored         1  \n",
       "1  Scored         1  \n",
       "2  Missed         0  \n",
       "3  Scored         1  \n",
       "4  Scored         1  "
      ]
     },
     "execution_count": 266,
     "metadata": {},
     "output_type": "execute_result"
    }
   ],
   "source": [
    "data.head()"
   ]
  },
  {
   "cell_type": "markdown",
   "metadata": {},
   "source": [
    "## Cleaning the data"
   ]
  },
  {
   "cell_type": "markdown",
   "metadata": {},
   "source": [
    "Now, let us handle the missing data."
   ]
  },
  {
   "cell_type": "code",
   "execution_count": 267,
   "metadata": {},
   "outputs": [
    {
     "data": {
      "text/plain": [
       "Player              0\n",
       "Team                0\n",
       "Foot                3\n",
       "Kick_Direction      3\n",
       "Keeper_Direction    3\n",
       "Scored              0\n",
       "Scored_n            0\n",
       "dtype: int64"
      ]
     },
     "execution_count": 267,
     "metadata": {},
     "output_type": "execute_result"
    }
   ],
   "source": [
    "data.isnull().sum()"
   ]
  },
  {
   "cell_type": "markdown",
   "metadata": {},
   "source": [
    "We see that there are 3 missing values in the Foot, Kick_Direction, and Keeper_Direction columns. Let us try to retrieve the entire rows where these values are missing, to see if we can use other columns to fill the missing data."
   ]
  },
  {
   "cell_type": "code",
   "execution_count": 268,
   "metadata": {},
   "outputs": [
    {
     "data": {
      "text/html": [
       "<div>\n",
       "<style scoped>\n",
       "    .dataframe tbody tr th:only-of-type {\n",
       "        vertical-align: middle;\n",
       "    }\n",
       "\n",
       "    .dataframe tbody tr th {\n",
       "        vertical-align: top;\n",
       "    }\n",
       "\n",
       "    .dataframe thead th {\n",
       "        text-align: right;\n",
       "    }\n",
       "</style>\n",
       "<table border=\"1\" class=\"dataframe\">\n",
       "  <thead>\n",
       "    <tr style=\"text-align: right;\">\n",
       "      <th></th>\n",
       "      <th>Player</th>\n",
       "      <th>Team</th>\n",
       "      <th>Foot</th>\n",
       "      <th>Kick_Direction</th>\n",
       "      <th>Keeper_Direction</th>\n",
       "      <th>Scored</th>\n",
       "      <th>Scored_n</th>\n",
       "    </tr>\n",
       "  </thead>\n",
       "  <tbody>\n",
       "    <tr>\n",
       "      <th>57</th>\n",
       "      <td>Christian Benteke</td>\n",
       "      <td>Crystal Palace</td>\n",
       "      <td>NaN</td>\n",
       "      <td>NaN</td>\n",
       "      <td>NaN</td>\n",
       "      <td>Missed</td>\n",
       "      <td>0</td>\n",
       "    </tr>\n",
       "    <tr>\n",
       "      <th>76</th>\n",
       "      <td>Ashley Barnes</td>\n",
       "      <td>Burnley</td>\n",
       "      <td>NaN</td>\n",
       "      <td>NaN</td>\n",
       "      <td>NaN</td>\n",
       "      <td>Scored</td>\n",
       "      <td>1</td>\n",
       "    </tr>\n",
       "    <tr>\n",
       "      <th>102</th>\n",
       "      <td>Riyad Mahrez</td>\n",
       "      <td>Leicester</td>\n",
       "      <td>NaN</td>\n",
       "      <td>NaN</td>\n",
       "      <td>NaN</td>\n",
       "      <td>Missed</td>\n",
       "      <td>0</td>\n",
       "    </tr>\n",
       "  </tbody>\n",
       "</table>\n",
       "</div>"
      ],
      "text/plain": [
       "                Player            Team Foot Kick_Direction Keeper_Direction  \\\n",
       "57   Christian Benteke  Crystal Palace  NaN            NaN              NaN   \n",
       "76       Ashley Barnes         Burnley  NaN            NaN              NaN   \n",
       "102       Riyad Mahrez       Leicester  NaN            NaN              NaN   \n",
       "\n",
       "     Scored  Scored_n  \n",
       "57   Missed         0  \n",
       "76   Scored         1  \n",
       "102  Missed         0  "
      ]
     },
     "execution_count": 268,
     "metadata": {},
     "output_type": "execute_result"
    }
   ],
   "source": [
    "null_data = data[data.isnull().any(axis = 1)]\n",
    "null_data"
   ]
  },
  {
   "cell_type": "markdown",
   "metadata": {},
   "source": [
    "We see that the three missing values happen in three rows. Without having the Kick_Direction or Keeper_Direction with the Scored variable, we cannot know what values are these missing values. So, we will just drop them."
   ]
  },
  {
   "cell_type": "code",
   "execution_count": 269,
   "metadata": {},
   "outputs": [],
   "source": [
    "data.dropna(how = 'any', axis = 0, inplace = True)"
   ]
  },
  {
   "cell_type": "code",
   "execution_count": 270,
   "metadata": {},
   "outputs": [
    {
     "name": "stdout",
     "output_type": "stream",
     "text": [
      "<class 'pandas.core.frame.DataFrame'>\n",
      "Int64Index: 103 entries, 0 to 105\n",
      "Data columns (total 7 columns):\n",
      "Player              103 non-null object\n",
      "Team                103 non-null object\n",
      "Foot                103 non-null object\n",
      "Kick_Direction      103 non-null object\n",
      "Keeper_Direction    103 non-null object\n",
      "Scored              103 non-null object\n",
      "Scored_n            103 non-null int64\n",
      "dtypes: int64(1), object(6)\n",
      "memory usage: 6.4+ KB\n"
     ]
    }
   ],
   "source": [
    "data.info()"
   ]
  },
  {
   "cell_type": "code",
   "execution_count": 271,
   "metadata": {},
   "outputs": [
    {
     "data": {
      "text/plain": [
       "Player              0\n",
       "Team                0\n",
       "Foot                0\n",
       "Kick_Direction      0\n",
       "Keeper_Direction    0\n",
       "Scored              0\n",
       "Scored_n            0\n",
       "dtype: int64"
      ]
     },
     "execution_count": 271,
     "metadata": {},
     "output_type": "execute_result"
    }
   ],
   "source": [
    "data.isnull().sum()"
   ]
  },
  {
   "cell_type": "code",
   "execution_count": 272,
   "metadata": {},
   "outputs": [
    {
     "data": {
      "text/html": [
       "<div>\n",
       "<style scoped>\n",
       "    .dataframe tbody tr th:only-of-type {\n",
       "        vertical-align: middle;\n",
       "    }\n",
       "\n",
       "    .dataframe tbody tr th {\n",
       "        vertical-align: top;\n",
       "    }\n",
       "\n",
       "    .dataframe thead th {\n",
       "        text-align: right;\n",
       "    }\n",
       "</style>\n",
       "<table border=\"1\" class=\"dataframe\">\n",
       "  <thead>\n",
       "    <tr style=\"text-align: right;\">\n",
       "      <th></th>\n",
       "      <th>Player</th>\n",
       "      <th>Team</th>\n",
       "      <th>Foot</th>\n",
       "      <th>Kick_Direction</th>\n",
       "      <th>Keeper_Direction</th>\n",
       "      <th>Scored</th>\n",
       "      <th>Scored_n</th>\n",
       "    </tr>\n",
       "  </thead>\n",
       "  <tbody>\n",
       "  </tbody>\n",
       "</table>\n",
       "</div>"
      ],
      "text/plain": [
       "Empty DataFrame\n",
       "Columns: [Player, Team, Foot, Kick_Direction, Keeper_Direction, Scored, Scored_n]\n",
       "Index: []"
      ]
     },
     "execution_count": 272,
     "metadata": {},
     "output_type": "execute_result"
    }
   ],
   "source": [
    "null_data = data[data.isnull().any(axis = 1)]\n",
    "null_data"
   ]
  },
  {
   "cell_type": "markdown",
   "metadata": {},
   "source": [
    "We see now that the number of entries has been reduced to 103, and there are no missing data."
   ]
  },
  {
   "cell_type": "markdown",
   "metadata": {},
   "source": [
    "## Exploratory Data Analysis (EDA)"
   ]
  },
  {
   "cell_type": "markdown",
   "metadata": {},
   "source": [
    "At the begining, let us see what is the probability of scoring a goal in a penalty shoot. To do this, we need to find\n",
    "\n",
    "$$\\text{P}[\\text{scoring a penatly}]=\\frac{\\text{# of penalties scores}}{\\text{total # of penalties}}$$"
   ]
  },
  {
   "cell_type": "code",
   "execution_count": 273,
   "metadata": {},
   "outputs": [
    {
     "name": "stdout",
     "output_type": "stream",
     "text": [
      "The probability of scoring a penalty is 0.7766990291262136\n"
     ]
    }
   ],
   "source": [
    "P_score = len(data[data['Scored_n'] == 1])/len(data['Scored_n'])\n",
    "print(f'The probability of scoring a penalty is {P_score}')"
   ]
  },
  {
   "cell_type": "markdown",
   "metadata": {},
   "source": [
    "We see that, it is more likely to score a penatly than missing it, with a probability close to 78%. Now let us see some absolute numbers."
   ]
  },
  {
   "cell_type": "code",
   "execution_count": 274,
   "metadata": {},
   "outputs": [
    {
     "data": {
      "image/png": "[encoded data removed]",
      "text/plain": [
       "<Figure size 720x576 with 1 Axes>"
      ]
     },
     "metadata": {},
     "output_type": "display_data"
    }
   ],
   "source": [
    "plt.figure(figsize = (10, 8))\n",
    "plt.xticks(rotation = 30)\n",
    "plt.yticks([0, 20, 40, 60, 80, 100])\n",
    "g = sns.countplot(x = 'Scored', data = data)\n",
    "for rect in g.patches:\n",
    "    height = rect.get_height()\n",
    "    plt.text(rect.get_x() + rect.get_width()/2.0, height, '%d' % int(height), ha='center', va='bottom')"
   ]
  },
  {
   "cell_type": "code",
   "execution_count": null,
   "metadata": {},
   "outputs": [],
   "source": []
  },
  {
   "cell_type": "code",
   "execution_count": 275,
   "metadata": {},
   "outputs": [
    {
     "data": {
      "text/plain": [
       "'file://C:\\\\Users\\\\Saed\\\\Desktop\\\\Penatly Kicks in the Premier League 20162017\\\\temp-plot.html'"
      ]
     },
     "execution_count": 275,
     "metadata": {},
     "output_type": "execute_result"
    }
   ],
   "source": [
    "trace1 = go.Bar(x = ['Scored', 'Missed'], y = data['Scored'].value_counts())\n",
    "\n",
    "data1 = [trace1]\n",
    "\n",
    "layout = go.Layout(title = 'Bar Chart of Penlaties')\n",
    "\n",
    "fig = go.Figure(data = data1, layout = layout)\n",
    "\n",
    "plot(fig)"
   ]
  },
  {
   "cell_type": "markdown",
   "metadata": {},
   "source": [
    "So, in abolute numbers, we see that 80 penatlies were scored out of the total 103 penatlies, which gives $80/103 \\simeq 78\\%$.  "
   ]
  },
  {
   "cell_type": "markdown",
   "metadata": {},
   "source": [
    "Next we will investigate where left and right footed players shoot there penalties. "
   ]
  },
  {
   "cell_type": "code",
   "execution_count": 276,
   "metadata": {},
   "outputs": [
    {
     "data": {
      "text/plain": [
       "Text(0.5,1,'Directions of Left Footed Players')"
      ]
     },
     "execution_count": 276,
     "metadata": {},
     "output_type": "execute_result"
    },
    {
     "data": {
      "image/png": "[encoded data removed]",
      "text/plain": [
       "<Figure size 720x576 with 1 Axes>"
      ]
     },
     "metadata": {},
     "output_type": "display_data"
    }
   ],
   "source": [
    "plt.figure(figsize = (10, 8))\n",
    "plt.yticks([0, 2, 4, 6, 8, 10])\n",
    "g= sns.countplot(x = 'Kick_Direction', data = data[data['Foot'] == 'L'], order = ['L', 'C', 'R'], hue = 'Scored')\n",
    "for rect in g.patches:\n",
    "    if rect.get_height() not in range(1,10):\n",
    "        height = 0\n",
    "    else:\n",
    "        height = rect.get_height()\n",
    "    plt.text(rect.get_x() + rect.get_width()/2.0, height, '%d' % (height), ha='center', va='bottom')\n",
    "plt.title('Directions of Left Footed Players')"
   ]
  },
  {
   "cell_type": "code",
   "execution_count": 277,
   "metadata": {},
   "outputs": [
    {
     "data": {
      "text/plain": [
       "Text(0.5,1,'Directions of Right Footed Players')"
      ]
     },
     "execution_count": 277,
     "metadata": {},
     "output_type": "execute_result"
    },
    {
     "data": {
      "image/png": "[encoded data removed]",
      "text/plain": [
       "<Figure size 720x576 with 1 Axes>"
      ]
     },
     "metadata": {},
     "output_type": "display_data"
    }
   ],
   "source": [
    "plt.figure(figsize = (10, 8))\n",
    "plt.yticks([0, 10, 20, 30, 40])\n",
    "g= sns.countplot(x = 'Kick_Direction', data = data[data['Foot'] == 'R'], order = ['L', 'C', 'R'], hue = 'Scored')\n",
    "for rect in g.patches:\n",
    "    height = rect.get_height()\n",
    "    plt.text(rect.get_x() + rect.get_width()/2.0, height, '%d' % int(height), ha='center', va='bottom')\n",
    "plt.title('Directions of Right Footed Players')"
   ]
  },
  {
   "cell_type": "code",
   "execution_count": 278,
   "metadata": {},
   "outputs": [
    {
     "data": {
      "text/plain": [
       "R    9\n",
       "L    8\n",
       "C    1\n",
       "Name: Kick_Direction, dtype: int64"
      ]
     },
     "execution_count": 278,
     "metadata": {},
     "output_type": "execute_result"
    }
   ],
   "source": [
    "data[data['Foot'] == 'L']['Kick_Direction'].value_counts()"
   ]
  },
  {
   "cell_type": "code",
   "execution_count": 279,
   "metadata": {},
   "outputs": [
    {
     "data": {
      "text/plain": [
       "R    0.500000\n",
       "L    0.444444\n",
       "C    0.055556\n",
       "Name: Kick_Direction, dtype: float64"
      ]
     },
     "execution_count": 279,
     "metadata": {},
     "output_type": "execute_result"
    }
   ],
   "source": [
    "data[data['Foot'] == 'L']['Kick_Direction'].value_counts(normalize = True)"
   ]
  },
  {
   "cell_type": "code",
   "execution_count": 280,
   "metadata": {},
   "outputs": [
    {
     "data": {
      "text/plain": [
       "L    39\n",
       "R    30\n",
       "C    16\n",
       "Name: Kick_Direction, dtype: int64"
      ]
     },
     "execution_count": 280,
     "metadata": {},
     "output_type": "execute_result"
    }
   ],
   "source": [
    "data[data['Foot'] == 'R']['Kick_Direction'].value_counts()"
   ]
  },
  {
   "cell_type": "code",
   "execution_count": 281,
   "metadata": {},
   "outputs": [
    {
     "data": {
      "text/plain": [
       "L    0.458824\n",
       "R    0.352941\n",
       "C    0.188235\n",
       "Name: Kick_Direction, dtype: float64"
      ]
     },
     "execution_count": 281,
     "metadata": {},
     "output_type": "execute_result"
    }
   ],
   "source": [
    "data[data['Foot'] == 'R']['Kick_Direction'].value_counts(normalize = True)"
   ]
  },
  {
   "cell_type": "markdown",
   "metadata": {},
   "source": [
    "from the above count plots and numbers we make the following remarks:\n",
    "* It is a rare event that a player, regardless if he is left or right footed, to shoot the penalty in the center. This suggests that the goal keeper has a better chance if he goes to the right or to the left, than remaining in the center.\n",
    "* A player is more likely to shoot the penalty to the opposite of his strong foot, i.e., if he is a left footed, he is more likely to shoot to the right, and vice versa. This suggests that the goal keeper, in absence of any other information, has a better chance in saving the penalty is he moves to the opposite direction of the strong foot of the penalty shooter. "
   ]
  },
  {
   "cell_type": "code",
   "execution_count": null,
   "metadata": {},
   "outputs": [],
   "source": []
  }
 ],
 "metadata": {
  "kernelspec": {
   "display_name": "Python 3",
   "language": "python",
   "name": "python3"
  },
  "language_info": {
   "codemirror_mode": {
    "name": "ipython",
    "version": 3
   },
   "file_extension": ".py",
   "mimetype": "text/x-python",
   "name": "python",
   "nbconvert_exporter": "python",
   "pygments_lexer": "ipython3",
   "version": "3.6.5"
  }
 },
 "nbformat": 4,
 "nbformat_minor": 2
}
